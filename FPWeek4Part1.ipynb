{
 "cells": [
  {
   "cell_type": "markdown",
   "metadata": {},
   "source": [
    "# **THE BATTLE OF NEIGHBORHOODS**\n",
    "## Title: Recommender System for health care"
   ]
  },
  {
   "cell_type": "markdown",
   "metadata": {},
   "source": [
    "## Introduction\n"
   ]
  },
  {
   "cell_type": "markdown",
   "metadata": {},
   "source": [
    "### Problem background :\n",
    "New York (NY or N.Y.) is a state located in the Northeastern United States. New York was one of the original Thirteen Colonies that formed the United States. With an estimated 20 million residents in 2019,it is the fourth most populous state.\n",
    "\n",
    "The world now is in a war with the invisible enemy (COVID-19). During the 2019-20 pandemic, the first case of COVID-19 in the U.S. state of New York was confirmed on March 1, 2020. As of April, 2020, there are more than 240,000 confirmed cases (an increase of 6,000 from the day before) in the state, and of those 17,000 people have died (up 540 overnight). New York has the highest number of confirmed cases of any state in the United States, with three times as many cases as neighboring New Jersey (the state with the second-most confirmed cases) and eight times that of neighboring Pennsylvania (which has the fifth-most). "
   ]
  },
  {
   "cell_type": "markdown",
   "metadata": {},
   "source": [
    "### Problem description: \n",
    "The medical centers in every part of NY is overcrowded because of this pandemic. In such situation, a regular medical exam for pregnant women or elderly people would be a problem. Finding the right place, to get treated in the best possible way with less risk is what every person expects. So, this can be possible through finding the nearest hospitals or clinics. So there are few questions that must be addressed, such as :\n",
    "\n",
    "1. What kind of medical centers are available (such as Hospital, Maternity Clinic, Eye Doctor, Dentist etc) in a particular neighborhood ?\n",
    "2. What are the most frequently visited/popular medical centers in the neighborhood?\n",
    "3. Where are these medical centers located?\n",
    "\n",
    "To answer the above questions, a map must be displayed based on a person's location and find the available medical centers in their neighborhood. Expectations from this system is to get answer for the questions, and in such a way that it uncovers all the perspective of managing recommendations.\n",
    "\n",
    "Another aspect to consider for a health care professional who is looking to open his/her own practice center is to find a location that is having fewer health care centers that are similar to what the professional is about to open. This will help him/her as well as the people in the neighborhood. "
   ]
  },
  {
   "cell_type": "markdown",
   "metadata": {},
   "source": [
    "### Target audience :\n",
    "Target audience for this project include:\n",
    "\n",
    "1. Health care professionals who are about to start new medical centers.  \n",
    "2. People who are in need of critical health care as well as regular health examination. \n"
   ]
  },
  {
   "cell_type": "code",
   "execution_count": null,
   "metadata": {},
   "outputs": [],
   "source": []
  }
 ],
 "metadata": {
  "kernelspec": {
   "display_name": "Python",
   "language": "python",
   "name": "conda-env-python-py"
  },
  "language_info": {
   "codemirror_mode": {
    "name": "ipython",
    "version": 3
   },
   "file_extension": ".py",
   "mimetype": "text/x-python",
   "name": "python",
   "nbconvert_exporter": "python",
   "pygments_lexer": "ipython3",
   "version": "3.6.10"
  }
 },
 "nbformat": 4,
 "nbformat_minor": 4
}
