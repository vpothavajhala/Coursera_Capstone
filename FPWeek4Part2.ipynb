{
 "cells": [
  {
   "cell_type": "markdown",
   "metadata": {},
   "source": [
    "# **THE BATTLE OF NEIGHBORHOODS**\n",
    "## Title: Recommender System for health care"
   ]
  },
  {
   "cell_type": "markdown",
   "metadata": {},
   "source": [
    "## Data\n",
    "\n",
    "#### Background and data source\n",
    "We will use the neighborhood information of New York city that is available from the server. From this we get a json file consisting of Boroughs and Neighborhoods of New York city. It has a total of 5 boroughs and 306 neighborhoods as well as latitude and longitude information for each neighborhood.\n",
    "\n",
    "We use 'wget' command to access newyork_data.json from https://cocl.us/new_york_dataset\n",
    "\n",
    "After getting the neighborhood data, we will use the Foursquare API to explore neighborhoods in New York City. We now search of all the nearby venues for each neighborhood and filter the data for different medical centers such as Hospital, Emergency Room, Maternity Clinic, Urgent Care Center and Dentist's Office.\n",
    "\n"
   ]
  },
  {
   "cell_type": "markdown",
   "metadata": {},
   "source": [
    "Here is the example data containing information about some medical centers (such as Dentist's office, Hospital, Physical Therapist) in some neighborhoods of Manhattan:\n",
    "\n",
    "![sample1.jpg](sample1.JPG \"Example of medical center data\")"
   ]
  },
  {
   "cell_type": "markdown",
   "metadata": {},
   "source": [
    "#### Using the data to solve our problem"
   ]
  },
  {
   "cell_type": "markdown",
   "metadata": {},
   "source": [
    "After getting this information, we map the medical centers onto the neighborhoods using Folium maps using the latitude and logitude information that we got from the Foursquare data. This will be useful for people who are trying to find medical centers within their neighborhood.  "
   ]
  },
  {
   "cell_type": "markdown",
   "metadata": {},
   "source": [
    "Next, we will also rearrange the data according to neighborhoods that do not have certain key medical centers such as Hospital or Meternity Clinic. This information can be used by medical professionals to help them with finding locations that do not contain or contain a very few of a particular kind of medical centers for which they would like to start a new center/office."
   ]
  },
  {
   "cell_type": "code",
   "execution_count": null,
   "metadata": {},
   "outputs": [],
   "source": []
  }
 ],
 "metadata": {
  "kernelspec": {
   "display_name": "Python",
   "language": "python",
   "name": "conda-env-python-py"
  },
  "language_info": {
   "codemirror_mode": {
    "name": "ipython",
    "version": 3
   },
   "file_extension": ".py",
   "mimetype": "text/x-python",
   "name": "python",
   "nbconvert_exporter": "python",
   "pygments_lexer": "ipython3",
   "version": "3.6.10"
  }
 },
 "nbformat": 4,
 "nbformat_minor": 4
}
